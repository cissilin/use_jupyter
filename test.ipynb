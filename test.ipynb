import numpy as np
import h5py as h5
import matplotlib.pyplot as plt

data_dir = 'SSJ_bins/'
filename = data_dir + 'magcloudshocks_ssj_ion_high_1.h5'


h5file = h5.File(filename, 'r')
names = h5file.keys()

# Retrieving 'binstats_results' using the following two methods returns the same thing
#binstats1 = file['binstats_results']
#binstats2 = file.get('binstats_results')
binstats = h5file.get('binstats_results')

bin0 = h5file.get('bin0')

bin_keys = binstats2.keys()

data = binstats2.get('binstats_nzmedian')
